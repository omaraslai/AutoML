{
  "metadata": {
    "kernelspec": {
      "language": "python",
      "display_name": "Python 3",
      "name": "python3"
    },
    "language_info": {
      "name": "python",
      "version": "3.10.13",
      "mimetype": "text/x-python",
      "codemirror_mode": {
        "name": "ipython",
        "version": 3
      },
      "pygments_lexer": "ipython3",
      "nbconvert_exporter": "python",
      "file_extension": ".py"
    },
    "kaggle": {
      "accelerator": "none",
      "dataSources": [
        {
          "sourceId": 7858908,
          "sourceType": "datasetVersion",
          "datasetId": 4609846
        }
      ],
      "dockerImageVersionId": 30673,
      "isInternetEnabled": false,
      "language": "python",
      "sourceType": "notebook",
      "isGpuEnabled": false
    },
    "colab": {
      "name": "Real Estate UAE - EDA + VIZ",
      "provenance": [],
      "include_colab_link": true
    }
  },
  "nbformat_minor": 0,
  "nbformat": 4,
  "cells": [
    {
      "cell_type": "markdown",
      "metadata": {
        "id": "view-in-github",
        "colab_type": "text"
      },
      "source": [
        "<a href=\"https://colab.research.google.com/github/omaraslai/AutoML/blob/main/Real_Estate_UAE_EDA_%2B_VIZ.ipynb\" target=\"_parent\"><img src=\"https://colab.research.google.com/assets/colab-badge.svg\" alt=\"Open In Colab\"/></a>"
      ]
    },
    {
      "source": [
        "\n",
        "# IMPORTANT: RUN THIS CELL IN ORDER TO IMPORT YOUR KAGGLE DATA SOURCES\n",
        "# TO THE CORRECT LOCATION (/kaggle/input) IN YOUR NOTEBOOK,\n",
        "# THEN FEEL FREE TO DELETE THIS CELL.\n",
        "# NOTE: THIS NOTEBOOK ENVIRONMENT DIFFERS FROM KAGGLE'S PYTHON\n",
        "# ENVIRONMENT SO THERE MAY BE MISSING LIBRARIES USED BY YOUR\n",
        "# NOTEBOOK.\n",
        "\n",
        "import os\n",
        "import sys\n",
        "from tempfile import NamedTemporaryFile\n",
        "from urllib.request import urlopen\n",
        "from urllib.parse import unquote, urlparse\n",
        "from urllib.error import HTTPError\n",
        "from zipfile import ZipFile\n",
        "import tarfile\n",
        "import shutil\n",
        "\n",
        "CHUNK_SIZE = 40960\n",
        "DATA_SOURCE_MAPPING = 'real-estate-data-uae:https%3A%2F%2Fstorage.googleapis.com%2Fkaggle-data-sets%2F4609846%2F7858908%2Fbundle%2Farchive.zip%3FX-Goog-Algorithm%3DGOOG4-RSA-SHA256%26X-Goog-Credential%3Dgcp-kaggle-com%2540kaggle-161607.iam.gserviceaccount.com%252F20240322%252Fauto%252Fstorage%252Fgoog4_request%26X-Goog-Date%3D20240322T001230Z%26X-Goog-Expires%3D259200%26X-Goog-SignedHeaders%3Dhost%26X-Goog-Signature%3D54a9e15c998d632bf006574668fad190b5483b396920f5f0ef4da114cc37927f26b9303d769049344dc69a9b817e0a001351b3bad72c450c2399daffbbc499769d19135e5a5a5302aa86f14fc5c12ba1e056acd49c8b35378a483fa38006318718605d921ed31ff2b732afe3b62d53062e3ff97c5a2f65d7acd13896e9069fc80d6856e2bb8e2c25748fa270a4978f0f2cde46b5cea6fd238520f731307811981b8d9741425611590542c7ec0fa2095ee0b42f2f5970c8293670925e9adda2d17c56c76094840eb75575a187d180563b9d193cb03f867c1b59a98c147f089ce64d0e40a94c97024cd63b0be1867a5bb86ff9b352c97df4e041d3012809988314'\n",
        "\n",
        "KAGGLE_INPUT_PATH='/kaggle/input'\n",
        "KAGGLE_WORKING_PATH='/kaggle/working'\n",
        "KAGGLE_SYMLINK='kaggle'\n",
        "\n",
        "!umount /kaggle/input/ 2> /dev/null\n",
        "shutil.rmtree('/kaggle/input', ignore_errors=True)\n",
        "os.makedirs(KAGGLE_INPUT_PATH, 0o777, exist_ok=True)\n",
        "os.makedirs(KAGGLE_WORKING_PATH, 0o777, exist_ok=True)\n",
        "\n",
        "try:\n",
        "  os.symlink(KAGGLE_INPUT_PATH, os.path.join(\"..\", 'input'), target_is_directory=True)\n",
        "except FileExistsError:\n",
        "  pass\n",
        "try:\n",
        "  os.symlink(KAGGLE_WORKING_PATH, os.path.join(\"..\", 'working'), target_is_directory=True)\n",
        "except FileExistsError:\n",
        "  pass\n",
        "\n",
        "for data_source_mapping in DATA_SOURCE_MAPPING.split(','):\n",
        "    directory, download_url_encoded = data_source_mapping.split(':')\n",
        "    download_url = unquote(download_url_encoded)\n",
        "    filename = urlparse(download_url).path\n",
        "    destination_path = os.path.join(KAGGLE_INPUT_PATH, directory)\n",
        "    try:\n",
        "        with urlopen(download_url) as fileres, NamedTemporaryFile() as tfile:\n",
        "            total_length = fileres.headers['content-length']\n",
        "            print(f'Downloading {directory}, {total_length} bytes compressed')\n",
        "            dl = 0\n",
        "            data = fileres.read(CHUNK_SIZE)\n",
        "            while len(data) > 0:\n",
        "                dl += len(data)\n",
        "                tfile.write(data)\n",
        "                done = int(50 * dl / int(total_length))\n",
        "                sys.stdout.write(f\"\\r[{'=' * done}{' ' * (50-done)}] {dl} bytes downloaded\")\n",
        "                sys.stdout.flush()\n",
        "                data = fileres.read(CHUNK_SIZE)\n",
        "            if filename.endswith('.zip'):\n",
        "              with ZipFile(tfile) as zfile:\n",
        "                zfile.extractall(destination_path)\n",
        "            else:\n",
        "              with tarfile.open(tfile.name) as tarfile:\n",
        "                tarfile.extractall(destination_path)\n",
        "            print(f'\\nDownloaded and uncompressed: {directory}')\n",
        "    except HTTPError as e:\n",
        "        print(f'Failed to load (likely expired) {download_url} to path {destination_path}')\n",
        "        continue\n",
        "    except OSError as e:\n",
        "        print(f'Failed to load {download_url} to path {destination_path}')\n",
        "        continue\n",
        "\n",
        "print('Data source import complete.')\n"
      ],
      "metadata": {
        "id": "6OPb5WUrgIy1"
      },
      "cell_type": "code",
      "outputs": [],
      "execution_count": null
    },
    {
      "cell_type": "code",
      "source": [
        "#\n",
        "\n",
        "import numpy as np # linear algebra\n",
        "import pandas as pd # data processing, CSV file I/O (e.g. pd.read_csv)\n",
        "import matplotlib.pyplot as plt\n",
        "\n",
        "import os\n",
        "for dirname, _, filenames in os.walk('/kaggle/input'):\n",
        "    for filename in filenames:\n",
        "        print(os.path.join(dirname, filename))\n",
        "\n",
        "dataset_path = '/kaggle/input/real-estate-data-uae/uae_properties.csv'\n",
        "uae_properties = pd.read_csv(dataset_path)\n",
        "\n"
      ],
      "metadata": {
        "_uuid": "8f2839f25d086af736a60e9eeb907d3b93b6e0e5",
        "_cell_guid": "b1076dfc-b9ad-4769-8c92-a6c4dae69d19",
        "execution": {
          "iopub.status.busy": "2024-03-22T00:03:27.223048Z",
          "iopub.execute_input": "2024-03-22T00:03:27.223748Z",
          "iopub.status.idle": "2024-03-22T00:03:27.248317Z",
          "shell.execute_reply.started": "2024-03-22T00:03:27.223715Z",
          "shell.execute_reply": "2024-03-22T00:03:27.246886Z"
        },
        "trusted": true,
        "id": "6fdzKwOigIy4"
      },
      "execution_count": null,
      "outputs": []
    },
    {
      "cell_type": "code",
      "source": [
        "uae_properties.head()"
      ],
      "metadata": {
        "execution": {
          "iopub.status.busy": "2024-03-22T00:03:27.250846Z",
          "iopub.execute_input": "2024-03-22T00:03:27.251518Z",
          "iopub.status.idle": "2024-03-22T00:03:27.270268Z",
          "shell.execute_reply.started": "2024-03-22T00:03:27.251478Z",
          "shell.execute_reply": "2024-03-22T00:03:27.268995Z"
        },
        "trusted": true,
        "id": "rDKqOwGsgIy4"
      },
      "execution_count": null,
      "outputs": []
    },
    {
      "cell_type": "code",
      "source": [
        "uae_properties.tail()"
      ],
      "metadata": {
        "execution": {
          "iopub.status.busy": "2024-03-22T00:03:27.271789Z",
          "iopub.execute_input": "2024-03-22T00:03:27.272865Z",
          "iopub.status.idle": "2024-03-22T00:03:27.290913Z",
          "shell.execute_reply.started": "2024-03-22T00:03:27.272828Z",
          "shell.execute_reply": "2024-03-22T00:03:27.289257Z"
        },
        "trusted": true,
        "id": "Ut4hReZsgIy4"
      },
      "execution_count": null,
      "outputs": []
    },
    {
      "cell_type": "code",
      "source": [
        "#define list of cities within the dataset\n",
        "\n",
        "known_cities = [\"Dubai\", \"Abu Dhabi\", \"Sharjah\", \"Ajman\", \"Ras Al Khaimah\", \"Fujairah\", \"Umm Al Quwain\", \"Al Ain\"]\n",
        "\n",
        "#extract city from displayadress field\n",
        "\n",
        "def extract_city(address):\n",
        "    for city in known_cities:\n",
        "        if city in address:\n",
        "            return city\n",
        "    return \"Uknown\"\n",
        "\n",
        "#apply the function to the 'displayAddress' column to create a new 'city' column\n",
        "uae_properties['city'] = uae_properties['displayAddress'].apply(extract_city)\n",
        "\n",
        "#Check distribution of cities across all entries\n",
        "city_distribution = uae_properties['city'].value_counts()\n",
        "\n",
        "city_distribution\n",
        ""
      ],
      "metadata": {
        "execution": {
          "iopub.status.busy": "2024-03-22T00:03:27.294342Z",
          "iopub.execute_input": "2024-03-22T00:03:27.294831Z",
          "iopub.status.idle": "2024-03-22T00:03:27.309342Z",
          "shell.execute_reply.started": "2024-03-22T00:03:27.294795Z",
          "shell.execute_reply": "2024-03-22T00:03:27.307919Z"
        },
        "trusted": true,
        "id": "dWX4V8Z1gIy4"
      },
      "execution_count": null,
      "outputs": []
    },
    {
      "cell_type": "code",
      "source": [
        "Real Estate Data UAE: Studio Listings 2024\n",
        "Chapter 1: Dataset Overview & Initial Insights\n",
        "Introduction:\n",
        "\n",
        "Exploratory analysis of the UAE studio apartment market in 2024.\n",
        "Aim: Uncover trends, patterns, and anomalies in the real estate sector.\n",
        "Dataset Composition:\n",
        "\n",
        "id: Unique identifier for each listing.\n",
        "title: Highlights key features of the listing.\n",
        "displayAddress: Location including community and city.\n",
        "bathrooms: Number of bathrooms in the apartment.\n",
        "bedrooms: Number of bedrooms, indicating studio nature.\n",
        "addedOn: Timestamp of listing addition.\n",
        "type: Transaction type ('buy').\n",
        "rera: Real Estate Regulatory Agency number for compliance.\n",
        "propertyType: Categorized as 'apartment'.\n",
        "price: Asking price of the apartment.\n",
        "Initial Data Exploration:\n",
        "\n",
        "Load the dataset for analysis.\n",
        "Display first few rows to understand the dataset structure.\n",
        "Summarize key statistics for an initial grasp of data distribution.\n",
        "Check for missing values to assess data quality.\n",
        "Conclusions:\n",
        "\n",
        "Main Findings and Reccomendations.\n",
        "Embark on this analytical journey to decode the nuances of the UAE's studio apartment market.\n",
        "\n",
        "#Load dataset\n",
        "import pandas as pd\n",
        "\n",
        "# Load the dataset\n",
        "dataset_path = '/kaggle/input/real-estate-data-uae/uae_properties.csv'\n",
        "uae_properties = pd.read_csv(dataset_path)\n",
        "\n",
        "\n",
        "\n"
      ],
      "metadata": {
        "execution": {
          "iopub.status.busy": "2024-03-22T00:03:27.311167Z",
          "iopub.execute_input": "2024-03-22T00:03:27.311656Z",
          "iopub.status.idle": "2024-03-22T00:03:27.33135Z",
          "shell.execute_reply.started": "2024-03-22T00:03:27.311612Z",
          "shell.execute_reply": "2024-03-22T00:03:27.329387Z"
        },
        "trusted": true,
        "id": "JlDQiBGHgIy5"
      },
      "execution_count": null,
      "outputs": []
    },
    {
      "cell_type": "code",
      "source": [
        "# Data preparation: Define the names of the cities and the corresponding number of listings for each city\n",
        "cities = [\"Dubai\", \"Abu Dhabi\", \"Sharjah\", \"Ras Al Khaimah\", \"Ajman\"]  # City names\n",
        "listings = [307, 122, 43, 14, 6]  # Number of listings per city\n",
        "\n",
        "# Plotting: Create a bar plot to visualize the distribution of listings across cities\n",
        "plt.figure(figsize=(10, 6))  # Initialize a figure with a custom size (width, height) in inches\n",
        "plt.bar(cities, listings, color='blue')  # Plot bars with 'cities' on the x-axis and 'listings' on the y-axis, colored sky blue\n",
        "\n",
        "# Adding plot aesthetics: Title, axis labels, and x-axis tick rotation for readability\n",
        "plt.title('Distribution of Property Listings by City')  # Set the title of the plot\n",
        "plt.xlabel('City')  # Label the x-axis as 'City'\n",
        "plt.ylabel('Number of Listings')  # Label the y-axis as 'Number of Listings'\n",
        "plt.xticks(rotation=45)  # Rotate the x-axis labels (city names) by 45 degrees to prevent overlap and improve readability\n",
        "\n",
        "# Display the plot: Render the bar plot on the screen\n",
        "plt.show()  # Show the plot in the output cell of the notebook"
      ],
      "metadata": {
        "execution": {
          "iopub.status.busy": "2024-03-22T00:03:27.332762Z",
          "iopub.status.idle": "2024-03-22T00:03:27.333476Z",
          "shell.execute_reply.started": "2024-03-22T00:03:27.333146Z",
          "shell.execute_reply": "2024-03-22T00:03:27.333175Z"
        },
        "trusted": true,
        "id": "GqF9ADecgIy5"
      },
      "execution_count": null,
      "outputs": []
    },
    {
      "cell_type": "code",
      "source": [
        "# Initial Data Exploration\n",
        "print(\"First few rows of the dataset:\")\n",
        "print(uae_properties.head())  # Display the first few rows of the dataset\n",
        "\n",
        "print(\"\\nMissing Values Check:\")\n",
        "print(uae_properties.isnull().sum())  # Check for missing values in each column\n",
        "\n",
        "print(\"\\nData Types:\")\n",
        "print(uae_properties.dtypes)  # Check the data types of each column\n",
        "\n",
        "# Descriptive Statistics\n",
        "print(\"\\nDescriptive Statistics for Price:\")\n",
        "print(uae_properties['price'].describe())  # Get descriptive statistics for the 'price' column\n",
        "\n",
        "# City-wise Price Analysis\n",
        "city_price_avg = uae_properties.groupby('city')['price'].mean().sort_values(ascending=False)  # Calculate the average price per city and sort them\n",
        "print(\"\\nAverage Price by City:\")\n",
        "print(city_price_avg)\n",
        "\n",
        "# Bar Plot Visualization for Average Price by City\n",
        "plt.figure(figsize=(10, 6))  # Set the figure size\n",
        "plt.bar(city_price_avg.index, city_price_avg.values, color='lightgreen')  # Create a bar plot with city names on the x-axis and average prices on the y-axis\n",
        "plt.title('Average Apartment Price by City')  # Title of the plot\n",
        "plt.xlabel('City')  # X-axis label\n",
        "plt.ylabel('Average Price (AED)')  # Y-axis label\n",
        "plt.xticks(rotation=45)  # Rotate the city names for better visibility\n",
        "plt.show()  # Display the plot"
      ],
      "metadata": {
        "execution": {
          "iopub.status.busy": "2024-03-22T00:03:27.365881Z",
          "iopub.execute_input": "2024-03-22T00:03:27.367289Z",
          "iopub.status.idle": "2024-03-22T00:03:27.722451Z",
          "shell.execute_reply.started": "2024-03-22T00:03:27.367242Z",
          "shell.execute_reply": "2024-03-22T00:03:27.721157Z"
        },
        "trusted": true,
        "id": "29QrHIcTgIy5"
      },
      "execution_count": null,
      "outputs": []
    },
    {
      "cell_type": "code",
      "source": [
        "#K means clustering for city and pricing\n",
        "from sklearn.preprocessing import StandardScaler\n",
        "from sklearn.cluster import KMeans\n",
        "import seaborn as sns\n",
        "\n",
        "\n",
        "\n",
        "# One-hot encode the 'city' column\n",
        "city_dummies = pd.get_dummies(uae_properties['city'])\n",
        "\n",
        "# Prepare features for clustering\n",
        "features = pd.concat([uae_properties[['price']], city_dummies], axis=1)\n",
        "\n",
        "# Standardize the features (important for clustering)\n",
        "scaler = StandardScaler()\n",
        "features_scaled = scaler.fit_transform(features)\n",
        "\n",
        "# K-Means Clustering\n",
        "kmeans = KMeans(n_clusters=5, random_state=42)  # Choosing 5 clusters for demonstration\n",
        "clusters = kmeans.fit_predict(features_scaled)\n",
        "\n",
        "# Adding cluster information to the dataset\n",
        "uae_properties['Cluster'] = clusters\n",
        "\n",
        "# Visualizing Clusters with a Scatter Plot\n",
        "# For visualization, we'll plot the original prices against the index of properties,\n",
        "# colored by their cluster. This isn't a direct 'city vs. price' plot due to the multi-dimensional nature of the data,\n",
        "# but it can still provide insights into how properties are grouped.\n",
        "plt.figure(figsize=(12, 6))\n",
        "sns.scatterplot(x=uae_properties.index, y='price', hue='Cluster', data=uae_properties, palette='viridis', alpha=0.6, legend=\"full\")\n",
        "plt.title('Properties Clustering based on Price and City')\n",
        "plt.xlabel('Property Index')\n",
        "plt.ylabel('Price (AED)')\n",
        "plt.legend(title='Cluster')\n",
        "plt.show()\n"
      ],
      "metadata": {
        "execution": {
          "iopub.status.busy": "2024-03-22T00:03:27.724697Z",
          "iopub.execute_input": "2024-03-22T00:03:27.725607Z",
          "iopub.status.idle": "2024-03-22T00:03:28.669789Z",
          "shell.execute_reply.started": "2024-03-22T00:03:27.725562Z",
          "shell.execute_reply": "2024-03-22T00:03:28.668493Z"
        },
        "trusted": true,
        "id": "IqUCxpRzgIy6"
      },
      "execution_count": null,
      "outputs": []
    },
    {
      "cell_type": "markdown",
      "source": [],
      "metadata": {
        "id": "nHklsIEqgIy6"
      }
    },
    {
      "cell_type": "code",
      "source": [],
      "metadata": {
        "id": "AvUNZ_izgIy7"
      },
      "execution_count": null,
      "outputs": []
    },
    {
      "cell_type": "markdown",
      "source": [
        "# 📊 Main Findings:\n",
        "* 🏠 Dataset Composition: The dataset features property listings in the UAE, detailing ID, title, address, bathrooms, bedrooms, listing date, type, RERA number, property type, price, and city.\n",
        "* ❗ Missing Data: There are 169 missing entries in the RERA column, indicating some listings lack regulatory information.\n",
        "* 🔢 Data Types: The dataset comprises numerical (int64, float64) and categorical (object) data types, accommodating a wide range of analyses.\n",
        "* 📈 Number of Listings: A total of 492 property listings are included in the dataset.\n",
        "* 💰 Price Range: Property prices vary significantly, ranging from 233,000 AED to 14,500,000 AED.\n",
        "* 💹 Average Price: The mean price of the properties is approximately 2.17 million AED, with a median price of 1.499 million AED, suggesting a skewed distribution.\n",
        "* 🌆 City Insights: Ras Al Khaimah and Dubai showcase the highest average property prices at approximately 2.81 million AED and 2.59 million AED, respectively. Abu Dhabi, Sharjah, and Ajman follow, with Ajman offering the most affordable options.\n",
        "#  💡 Recommendations:\n",
        "* 📊 In-depth Analysis: Further analysis is recommended to explore the factors contributing to the high variability in property prices, particularly in Ras Al Khaimah and Dubai.\n",
        "* 🔍 Data Enrichment: Additional data, such as property size, amenities, and proximity to key locations, could enhance the analysis and provide more accurate predictions.\n",
        "* 📅 Temporal Analysis: Investigating price trends over time may reveal valuable insights into market dynamics and investment opportunities.\n",
        "* 🌍 Geographical Analysis: If available, latitude and longitude data could facilitate a detailed geographical analysis to understand the spatial distribution of property prices.\n",
        "* 🔢 Increase Data Volume: Expanding the dataset with more listings could improve analysis robustness, especially for machine learning model training and validation."
      ],
      "metadata": {
        "id": "lwl6ZWZ5gIy7"
      }
    }
  ]
}